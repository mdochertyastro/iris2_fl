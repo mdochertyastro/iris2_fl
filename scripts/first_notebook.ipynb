import numpy as np \nimport matplotlib as mpl
